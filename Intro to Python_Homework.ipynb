{
 "cells":[
  {
   "cell_type":"markdown",
   "source":[
    "# Intro to Python\n",
    "Natthapon Srihawong (Misterdonatt)\n",
    "\n",
    "Homework of Introduction to python in datarockie bootcamp. (2022\/11\/12)\n",
    "\n",
    "- Homework 1 **PAO YING CHUB**\n",
    "- Homework 2 (OOP) **ATM Class at least 5 methods**"
   ],
   "attachments":{
    
   },
   "metadata":{
    "datalore":{
     "node_id":"2j1TvnaxPJBMj8wOJbRH4P",
     "type":"MD",
     "hide_input_from_viewers":false,
     "hide_output_from_viewers":false
    }
   }
  },
  {
   "cell_type":"markdown",
   "source":[
    "**Homework 1 : Pao Ying Chub (Rock Paper Scissers)**"
   ],
   "attachments":{
    
   },
   "metadata":{
    "datalore":{
     "node_id":"6fFhlEflbeXtLyGXjHa1Uq",
     "type":"MD",
     "hide_input_from_viewers":false,
     "hide_output_from_viewers":false
    }
   }
  },
  {
   "cell_type":"markdown",
   "source":[
    "**Homework 2 : (OOP) ATM Class (at least 5 methods)**"
   ],
   "attachments":{
    
   },
   "metadata":{
    "datalore":{
     "node_id":"rs4hquhXQiefLKLrhoJgOq",
     "type":"MD",
     "hide_input_from_viewers":false,
     "hide_output_from_viewers":false
    }
   }
  },
  {
   "cell_type":"code",
   "source":[
    "account_id_available = iter(range(1,100))\n",
    "account_instances =[]\n",
    "\n",
    "class atm:\n",
    "    def __init__(self, firstname: str, lastname: str, initcash: float, pins: int):\n",
    "        self.firstname = firstname\n",
    "        self.lastname = lastname\n",
    "        self.cash = float(initcash)\n",
    "        self.account_id = next(account_id_available)\n",
    "        self.__pins = int(pins)\n",
    "        account_instances.append(self)\n",
    "\n",
    "        print(f'Hello {firstname}, you succesfully open your bank account!\\nYour account ID is {self.account_id}')\n",
    "        \n",
    "    def get_balance(self):\n",
    "        print(f'Your current balance is {self.cash}')\n",
    "        \n",
    "    def transfer(self, destination_id: int, cash: float):\n",
    "        destination = account_instances[destination_id-1]\n",
    "        if self.check_pins():\n",
    "            \n",
    "            if self.account_id == destination_id:\n",
    "                print(\"You cannot transfer money to the same account!\")\n",
    "\n",
    "            else:\n",
    "                if self.cash >= cash:\n",
    "                    print(f\"You want to transfer to Account ID {destination_id}\")\n",
    "                    print(f\"Name: {destination.firstname+ ' ' + destination.lastname}\")\n",
    "                    confirm = int(input('Press 1 to Confirm\\n'))\n",
    "                    if confirm:\n",
    "                        self.cash -= cash\n",
    "                        destination.cash += cash\n",
    "                    else:\n",
    "                        print(\"You canceled your transaction!\")\n",
    "                    self.get_balance()\n",
    "\n",
    "                else:\n",
    "                    print('Your balance is not enough!!')\n",
    "        \n",
    "    def deposit(self,cash: float):\n",
    "        self.cash += float(cash)\n",
    "        print(\"You succesfully deposited your money\")\n",
    "        self.get_balance()\n",
    "        \n",
    "    def withdraw(self, cash: float):\n",
    "        if self.check_pins():\n",
    "            if self.cash >= cash:\n",
    "                self.cash -= cash\n",
    "                print('You succesfully withdrawn your money!')\n",
    "                self.get_balance()\n",
    "            else:\n",
    "                print('Your balance is not enough!')\n",
    "    \n",
    "    def check_pins(self):\n",
    "        pins = int(input(\"Please put your pins (6 digits)\\n\"))\n",
    "        if self.__pins == pins:\n",
    "            return True\n",
    "        elif (str(pins).isnumeric()) & (len(str(pins)) != 6):\n",
    "            print('Wrong pins, pins are 6 digit numbers')\n",
    "            return False\n",
    "        else:\n",
    "            print('Wrong pins!')\n",
    "            return False\n",
    "        \n",
    "    def change_pins(self):\n",
    "        if self.check_pins():\n",
    "            # Must be numbers checking\n",
    "            try:\n",
    "                new_pins_1 = int(input(\"Please put your new pins\\n\"))\n",
    "                new_pins_2 = int(input(\"Please put your new pins again\\n\"))\n",
    "            except:\n",
    "                print(\"Pins must be 6 digit numbers!\")\n",
    "            # Pins = 6 digit\n",
    "            if len(str(new_pins_1)) != 6 or len(str(new_pins_2)) != 6:\n",
    "                print(\"Pins must be 6 digit numbers!\")\n",
    "            # If both are equal, be 6 digit numbers, then change the password\n",
    "            elif new_pins_1 == new_pins_2:\n",
    "                self.__pins = new_pins_1\n",
    "                print(\"Your pins have been changed!\")\n",
    "            # Both new pins are not the same\n",
    "            else:\n",
    "                print('Your second pins are not the same as the first pins')"
   ],
   "execution_count":29,
   "outputs":[
    
   ],
   "metadata":{
    "datalore":{
     "node_id":"mSbJBqjL3ZRhwDBPyIFrS2",
     "type":"CODE",
     "hide_input_from_viewers":false,
     "hide_output_from_viewers":false
    }
   }
  },
  {
   "cell_type":"markdown",
   "source":[
    "# Let's create a first atm object\n",
    "\n",
    "atm1 = atm(firstname, lastname, initcash, pins)"
   ],
   "attachments":{
    
   },
   "metadata":{
    "datalore":{
     "node_id":"RZd3nlvIBrfeZsE9bKdZUD",
     "type":"MD",
     "hide_input_from_viewers":false,
     "hide_output_from_viewers":false
    }
   }
  },
  {
   "cell_type":"code",
   "source":[
    "atm1 = atm(\"์Natthapon\", \"Srihawong\", 1000, 123456)"
   ],
   "execution_count":30,
   "outputs":[
    {
     "name":"stdout",
     "text":[
      "Hello ์Natthapon, you succesfully open your bank account!\n",
      "Your account ID is 1\n"
     ],
     "output_type":"stream"
    }
   ],
   "metadata":{
    "datalore":{
     "node_id":"3tSZ0Dp8wl0fGGOfcB70uP",
     "type":"CODE",
     "hide_input_from_viewers":false,
     "hide_output_from_viewers":false
    }
   }
  },
  {
   "cell_type":"markdown",
   "source":[
    "# Check balance, deposit and withdraw\n",
    "- Checking balance = atm.get_balance()\n",
    "- Deposit money = atm.deposit(cash)\n",
    "- Withdraw money = atm.withdraw(cash)\n",
    "\n",
    "In order to withdraw, you need to put your pins correctly, and your balance must be greater or equal than the amount of money you will withdraw."
   ],
   "attachments":{
    
   },
   "metadata":{
    "datalore":{
     "node_id":"gihOTvuvjVUhX8RaKrV8F6",
     "type":"MD",
     "hide_input_from_viewers":false,
     "hide_output_from_viewers":false
    }
   }
  },
  {
   "cell_type":"code",
   "source":[
    "print('Before deposit')\n",
    "atm1.get_balance()\n",
    "print('After deposit')\n",
    "atm1.deposit(100)"
   ],
   "execution_count":31,
   "outputs":[
    {
     "name":"stdout",
     "text":[
      "Before deposit\n",
      "Your current balance is 1000.0\n",
      "After deposit\n",
      "You succesfully deposited your money\n",
      "Your current balance is 1100.0\n"
     ],
     "output_type":"stream"
    }
   ],
   "metadata":{
    "datalore":{
     "node_id":"JMXvdXeVGWxdNAABrfdiJN",
     "type":"CODE",
     "hide_input_from_viewers":false,
     "hide_output_from_viewers":false
    }
   }
  },
  {
   "cell_type":"code",
   "source":[
    "atm1.withdraw(100)"
   ],
   "execution_count":32,
   "outputs":[
    {
     "name":"stdout",
     "text":[
      "Please put your pins (6 digits)\n",
      " 123456\n",
      "You succesfully withdrawn your money!\n",
      "Your current balance is 1000.0\n"
     ],
     "output_type":"stream"
    }
   ],
   "metadata":{
    "datalore":{
     "node_id":"I50yeITjamyJhFFAHQreyX",
     "type":"CODE",
     "hide_input_from_viewers":false,
     "hide_output_from_viewers":false
    }
   }
  },
  {
   "cell_type":"markdown",
   "source":[
    "# Change pins\n",
    "Let's try change the pins of atm1 with atm.change_pins() , and test a new pins with atm.check_pins() function.\n",
    "\n",
    "- New pins must be 6 digit numbers, you will need to put new pins twice, both must be the same.\n",
    "- check_pins() return True if the pins are correct."
   ],
   "attachments":{
    
   },
   "metadata":{
    "datalore":{
     "node_id":"nHZt0vIz3TvwaB2s7pDkh9",
     "type":"MD",
     "hide_input_from_viewers":false,
     "hide_output_from_viewers":false
    }
   }
  },
  {
   "cell_type":"code",
   "source":[
    "atm1.change_pins()"
   ],
   "execution_count":33,
   "outputs":[
    {
     "name":"stdout",
     "text":[
      "Please put your pins (6 digits)\n",
      " 123456\n",
      "Please put your new pins\n",
      " 654321\n",
      "Please put your new pins again\n",
      " 654321\n",
      "Your pins have been changed!\n"
     ],
     "output_type":"stream"
    }
   ],
   "metadata":{
    "datalore":{
     "node_id":"RN5LTbPTN1VgLrHn0EDxkh",
     "type":"CODE",
     "hide_input_from_viewers":false,
     "hide_output_from_viewers":false
    }
   }
  },
  {
   "cell_type":"code",
   "source":[
    "atm1.check_pins()"
   ],
   "execution_count":34,
   "outputs":[
    {
     "name":"stdout",
     "text":[
      "Please put your pins (6 digits)\n",
      " 654321\n"
     ],
     "output_type":"stream"
    },
    {
     "data":{
      "text\/plain":[
       "True"
      ]
     },
     "metadata":{
      
     },
     "output_type":"display_data"
    }
   ],
   "metadata":{
    "datalore":{
     "node_id":"SHCFeog7yRxWCNnDw7UN6K",
     "type":"CODE",
     "hide_input_from_viewers":false,
     "hide_output_from_viewers":false
    }
   }
  },
  {
   "cell_type":"markdown",
   "source":[
    "# Transfer\n",
    "Let's transfer money from an account to another account\n",
    "\n",
    "- Required pins\n",
    "- Required account id of destination account\n",
    "- Amount of money you want to transfer must be less or equal to current balance"
   ],
   "attachments":{
    
   },
   "metadata":{
    "datalore":{
     "node_id":"r0V6DAAs34LubvQOPN8lTw",
     "type":"MD",
     "hide_input_from_viewers":false,
     "hide_output_from_viewers":false
    }
   }
  },
  {
   "cell_type":"code",
   "source":[
    "account_1 = atm('Chayapon', 'Watkawee', 10000, 000000)"
   ],
   "execution_count":35,
   "outputs":[
    {
     "name":"stdout",
     "text":[
      "Hello Chayapon, you succesfully open your bank account!\n",
      "Your account ID is 2\n"
     ],
     "output_type":"stream"
    }
   ],
   "metadata":{
    "datalore":{
     "node_id":"ujMZLN6jWYfMOHS2RCbwea",
     "type":"CODE",
     "hide_input_from_viewers":false,
     "hide_output_from_viewers":false
    }
   }
  },
  {
   "cell_type":"code",
   "source":[
    "account_2 = atm('Toy', 'Pathompong', 500, 212224)"
   ],
   "execution_count":36,
   "outputs":[
    {
     "name":"stdout",
     "text":[
      "Hello Toy, you succesfully open your bank account!\n",
      "Your account ID is 3\n"
     ],
     "output_type":"stream"
    }
   ],
   "metadata":{
    "datalore":{
     "node_id":"kT65roODtQLABgUiQJW4xE",
     "type":"CODE",
     "hide_input_from_viewers":false,
     "hide_output_from_viewers":false
    }
   }
  },
  {
   "cell_type":"markdown",
   "source":[
    "We will transfer money from Chayapon account to Toy account (account_id:3)\n",
    "\n",
    "- atm.transfer(destination_id, amount_of_money)"
   ],
   "attachments":{
    
   },
   "metadata":{
    "datalore":{
     "node_id":"FydvCPytRzaA6p1LtuXqO7",
     "type":"MD",
     "hide_input_from_viewers":false,
     "hide_output_from_viewers":false
    }
   }
  },
  {
   "cell_type":"code",
   "source":[
    "account_1.transfer(3, 10000)"
   ],
   "execution_count":37,
   "outputs":[
    {
     "name":"stdout",
     "text":[
      "Please put your pins (6 digits)\n",
      " 000000\n",
      "You want to transfer to Account ID 3\n",
      "Name: Toy Pathompong\n",
      "Press 1 to Confirm\n",
      " 1\n",
      "Your current balance is 0.0\n"
     ],
     "output_type":"stream"
    }
   ],
   "metadata":{
    "datalore":{
     "node_id":"UrOWbm8ms67E7D9H4spqHF",
     "type":"CODE",
     "hide_input_from_viewers":false,
     "hide_output_from_viewers":false
    }
   }
  },
  {
   "cell_type":"code",
   "source":[
    "account_2.get_balance()"
   ],
   "execution_count":38,
   "outputs":[
    {
     "name":"stdout",
     "text":[
      "Your current balance is 10500.0\n"
     ],
     "output_type":"stream"
    }
   ],
   "metadata":{
    "datalore":{
     "node_id":"sd4Jticdwy51I2tkmXZRBl",
     "type":"CODE",
     "hide_input_from_viewers":false,
     "hide_output_from_viewers":false
    }
   }
  },
  {
   "cell_type":"markdown",
   "source":[
    "Now there is 10000 in Chayapon's account, let's try transfer it to Natthapon account (the first account)"
   ],
   "attachments":{
    
   },
   "metadata":{
    "datalore":{
     "node_id":"naDde3UbfuXdMbKEFKy4uh",
     "type":"MD",
     "hide_input_from_viewers":false,
     "hide_output_from_viewers":false
    }
   }
  },
  {
   "cell_type":"code",
   "source":[
    "account_2.transfer(1, 10000)"
   ],
   "execution_count":39,
   "outputs":[
    {
     "name":"stdout",
     "text":[
      "Please put your pins (6 digits)\n",
      " 212224\n",
      "You want to transfer to Account ID 1\n",
      "Name: ์Natthapon Srihawong\n",
      "Press 1 to Confirm\n",
      " 1\n",
      "Your current balance is 500.0\n"
     ],
     "output_type":"stream"
    }
   ],
   "metadata":{
    "datalore":{
     "node_id":"8idQ3A7FEd1qtLxmWlOHOm",
     "type":"CODE",
     "hide_input_from_viewers":false,
     "hide_output_from_viewers":false
    }
   }
  }
 ],
 "metadata":{
  "kernelspec":{
   "display_name":"Python",
   "language":"python",
   "name":"python"
  },
  "datalore":{
   "version":1,
   "computation_mode":"JUPYTER",
   "package_manager":"pip",
   "base_environment":"default",
   "packages":[
    
   ]
  }
 },
 "nbformat":4,
 "nbformat_minor":4
}
